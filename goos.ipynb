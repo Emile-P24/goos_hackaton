{
 "cells": [
  {
   "cell_type": "code",
   "execution_count": 1,
   "id": "334245ec-3aeb-443d-86e7-0e17803cb7dc",
   "metadata": {},
   "outputs": [
    {
     "name": "stdout",
     "output_type": "stream",
     "text": [
      "pygame 2.6.1 (SDL 2.28.4, Python 3.12.3)\n",
      "Hello from the pygame community. https://www.pygame.org/contribute.html\n"
     ]
    }
   ],
   "source": [
    "import pygame\n",
    "import pymunk\n",
    "\n",
    "# Initialisation\n",
    "pygame.init()\n",
    "screen = pygame.display.set_mode((800, 600))\n",
    "clock = pygame.time.Clock()\n",
    "\n",
    "# Création de l'espace physique\n",
    "space = pymunk.Space()\n",
    "g = (9.81/20)\n",
    "space.gravity = (0, g)  # Gravité vers le bas\n",
    "\n",
    "# Création d'une boule de Goo\n",
    "radius = 20\n",
    "mass = 0.4\n",
    "moment = pymunk.moment_for_circle(mass, 0, radius)\n",
    "goo_body = pymunk.Body(mass, moment)\n",
    "goo_body.position = (400, 100)\n",
    "goo_shape = pymunk.Circle(goo_body, radius)\n",
    "goo_shape.elasticity = 0.5\n",
    "space.add(goo_body, goo_shape)\n",
    "\n",
    "# Sol\n",
    "segment = pymunk.Segment(space.static_body, (0, 500), (800, 500), 5)\n",
    "segment.elasticity = 0.8\n",
    "space.add(segment)\n",
    "\n",
    "# Boucle du jeu\n",
    "running = True\n",
    "while running:\n",
    "    screen.fill((200, 200, 255))  # Fond bleu ciel\n",
    "    \n",
    "    for event in pygame.event.get():\n",
    "        if event.type == pygame.QUIT:\n",
    "            running = False\n",
    "\n",
    "    # Mise à jour de la physique\n",
    "    space.step(1/60.0)\n",
    "\n",
    "    # Dessin de la boule\n",
    "    pygame.draw.circle(screen, (0, 0, 0), (int(goo_body.position.x), int(goo_body.position.y)), radius)\n",
    "\n",
    "    # Affichage\n",
    "    pygame.display.flip()\n",
    "    clock.tick(60)\n",
    "\n",
    "pygame.quit()\n"
   ]
  },
  {
   "cell_type": "code",
   "execution_count": null,
   "id": "d756e7ff-2b35-4b03-b2b4-9d5f991d8b01",
   "metadata": {},
   "outputs": [],
   "source": []
  }
 ],
 "metadata": {
  "kernelspec": {
   "display_name": "Python 3 (ipykernel)",
   "language": "python",
   "name": "python3"
  },
  "language_info": {
   "codemirror_mode": {
    "name": "ipython",
    "version": 3
   },
   "file_extension": ".py",
   "mimetype": "text/x-python",
   "name": "python",
   "nbconvert_exporter": "python",
   "pygments_lexer": "ipython3",
   "version": "3.12.3"
  }
 },
 "nbformat": 4,
 "nbformat_minor": 5
}
